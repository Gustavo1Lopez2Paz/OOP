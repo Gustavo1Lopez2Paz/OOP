{
 "cells": [
  {
   "cell_type": "markdown",
   "metadata": {},
   "source": [
    "# Ejercicioo 7 de OOP "
   ]
  },
  {
   "cell_type": "code",
   "execution_count": 24,
   "metadata": {},
   "outputs": [],
   "source": [
    "class Persona:\n",
    "    def __init__(self, apellidoP, apellidoM, nombre):\n",
    "        self.apellidoP = apellidoP\n",
    "        self.apellidoM = apellidoM\n",
    "        self.nombre = nombre\n",
    "\n",
    "    def formatear(self):\n",
    "        return f\"{self.nombre} {self.apellidoP} {self.apellidoM}\".title()"
   ]
  },
  {
   "cell_type": "code",
   "execution_count": 26,
   "metadata": {},
   "outputs": [
    {
     "name": "stdout",
     "output_type": "stream",
     "text": [
      "Gustavo Lopez Paz\n"
     ]
    }
   ],
   "source": [
    "Nombre1 = Persona(\"lOpEz\", \"pAz\", \"gusTaVo\")\n",
    "print(Nombre1.formatear())"
   ]
  }
 ],
 "metadata": {
  "kernelspec": {
   "display_name": "Python 3",
   "language": "python",
   "name": "python3"
  },
  "language_info": {
   "codemirror_mode": {
    "name": "ipython",
    "version": 3
   },
   "file_extension": ".py",
   "mimetype": "text/x-python",
   "name": "python",
   "nbconvert_exporter": "python",
   "pygments_lexer": "ipython3",
   "version": "3.12.0"
  }
 },
 "nbformat": 4,
 "nbformat_minor": 2
}
