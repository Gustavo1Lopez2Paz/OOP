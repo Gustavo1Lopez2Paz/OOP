{
 "cells": [
  {
   "cell_type": "markdown",
   "metadata": {},
   "source": [
    "# Ejercicio 9 de OOP"
   ]
  },
  {
   "cell_type": "markdown",
   "metadata": {},
   "source": [
    "crear una clase llamada time que necesite horas minutos y segundos con un metodo llamado total_seconds() regresa el total de segundos que pasaron(convertidos) e igual dar el formato "
   ]
  },
  {
   "cell_type": "code",
   "execution_count": 44,
   "metadata": {},
   "outputs": [],
   "source": [
    "class Time:\n",
    "    def __init__(self, hr, min, seg):\n",
    "        self.hr = hr\n",
    "        self.min = min\n",
    "        self.seg = seg\n",
    "\n",
    "    def total_seconds(self):\n",
    "        horas = self.hr * 60 * 60\n",
    "        minutos = self.min * 60 \n",
    "        totSeg = horas + minutos + self.seg\n",
    "        return f\"La hora convertida en segundos es igual a {totSeg} segundos totales\"\n",
    "    \n",
    "    def __str__(self):\n",
    "        return f\"{self.hr:02}:{self.min:02}:{self.seg:02}\"\n"
   ]
  },
  {
   "cell_type": "code",
   "execution_count": 45,
   "metadata": {},
   "outputs": [
    {
     "name": "stdout",
     "output_type": "stream",
     "text": [
      "02:10:03\n",
      "La hora convertida en segundos es igual a 7803 segundos totales\n"
     ]
    }
   ],
   "source": [
    "t1 = Time(2,10,3)\n",
    "segundos = t1.total_seconds()\n",
    "tiempo = t1.__str__()\n",
    "print(tiempo)\n",
    "print(segundos)"
   ]
  },
  {
   "cell_type": "code",
   "execution_count": 39,
   "metadata": {},
   "outputs": [
    {
     "name": "stdout",
     "output_type": "stream",
     "text": [
      "16:03:11\n",
      "La hora convertida en segundos es igual a 57791 segundos totales\n"
     ]
    }
   ],
   "source": [
    "t2 = Time(16,3,11)\n",
    "segundos2 = t2.total_seconds()\n",
    "tiempo2 = t2.__str__()\n",
    "print(tiempo2)\n",
    "print(segundos2)"
   ]
  },
  {
   "cell_type": "code",
   "execution_count": 51,
   "metadata": {},
   "outputs": [
    {
     "name": "stdout",
     "output_type": "stream",
     "text": [
      "09:03:01\n",
      "La hora convertida en segundos es igual a 32581 segundos totales\n"
     ]
    }
   ],
   "source": [
    "t3 = Time(9,3,1)\n",
    "segundos3 = t3.total_seconds()\n",
    "tiempo3 = t3.__str__()\n",
    "print(tiempo3)\n",
    "print(segundos3)"
   ]
  }
 ],
 "metadata": {
  "kernelspec": {
   "display_name": "Python 3",
   "language": "python",
   "name": "python3"
  },
  "language_info": {
   "codemirror_mode": {
    "name": "ipython",
    "version": 3
   },
   "file_extension": ".py",
   "mimetype": "text/x-python",
   "name": "python",
   "nbconvert_exporter": "python",
   "pygments_lexer": "ipython3",
   "version": "3.12.0"
  }
 },
 "nbformat": 4,
 "nbformat_minor": 2
}
