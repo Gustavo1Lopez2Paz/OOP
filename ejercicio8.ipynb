{
 "cells": [
  {
   "cell_type": "markdown",
   "metadata": {},
   "source": [
    "# Ejercicio 8 de OOP"
   ]
  },
  {
   "cell_type": "code",
   "execution_count": 1,
   "metadata": {},
   "outputs": [],
   "source": [
    "import math as mt"
   ]
  },
  {
   "cell_type": "code",
   "execution_count": 8,
   "metadata": {},
   "outputs": [],
   "source": [
    "class Point2D:\n",
    "    def __init__(self,x,y):\n",
    "        self.x = x\n",
    "        self.y = y\n",
    "\n",
    "    def distancia(self, other):\n",
    "        x = mt.pow((self.x - other.x),2)\n",
    "        y = mt.pow((self.y - other.y),2)\n",
    "        distancia = mt.sqrt((x + y))\n",
    "\n",
    "        return f\"La distancia entre los dos puntos es {distancia}\""
   ]
  },
  {
   "cell_type": "code",
   "execution_count": 11,
   "metadata": {},
   "outputs": [
    {
     "name": "stdout",
     "output_type": "stream",
     "text": [
      "La distancia entre los dos puntos es 6.082762530298219\n"
     ]
    }
   ],
   "source": [
    "coordenada1 = Point2D(3, 4)\n",
    "coordenada2 = Point2D(9, 5)\n",
    "print(coordenada1.distancia(coordenada2))"
   ]
  },
  {
   "cell_type": "code",
   "execution_count": 12,
   "metadata": {},
   "outputs": [
    {
     "name": "stdout",
     "output_type": "stream",
     "text": [
      "La distancia entre los dos puntos es 15.0\n"
     ]
    }
   ],
   "source": [
    "coordenada1 = Point2D(-3, 4)\n",
    "coordenada2 = Point2D(9, -5)\n",
    "print(coordenada1.distancia(coordenada2))"
   ]
  }
 ],
 "metadata": {
  "kernelspec": {
   "display_name": "Python 3",
   "language": "python",
   "name": "python3"
  },
  "language_info": {
   "codemirror_mode": {
    "name": "ipython",
    "version": 3
   },
   "file_extension": ".py",
   "mimetype": "text/x-python",
   "name": "python",
   "nbconvert_exporter": "python",
   "pygments_lexer": "ipython3",
   "version": "3.12.0"
  }
 },
 "nbformat": 4,
 "nbformat_minor": 2
}
