{
 "cells": [
  {
   "cell_type": "markdown",
   "id": "7ca69bd2-06a2-4df1-a5dc-3bfd2f0d5807",
   "metadata": {},
   "source": [
    "# Ejercicio 6 de OOP"
   ]
  },
  {
   "cell_type": "markdown",
   "id": "5a49609e-b766-4ca3-a284-37e4f5788315",
   "metadata": {},
   "source": [
    "\n",
    "<img src=\"./Diagramas_clases/WhatsApp Image 2024-08-27 at 09.23.09.jpeg\" alt=\"Ex 6\" width=\"300\">"
   ]
  },
  {
   "cell_type": "markdown",
   "id": "f7d9acff-c28a-4148-b886-093650136d3f",
   "metadata": {},
   "source": [
    "## Clase Employee\n",
    "- **int id**: Atributo de instancia. Identifica de manera unica a cada instancia de `Employee`.\n",
    "- **int new_id**: Atributo de clase. Identificador unico.\n",
    "- **void say_id()**: Imprime 'Mi id es: {self.id}.\n",
    "\n",
    "## Clase User\n",
    "- **str role**: Atributo de instancia. Funcion de `User` p.ej.\n",
    "    - Administrador\n",
    "    - Manager\n",
    "    - Usuario\n",
    "- **str username**: Atributo de instancia. Nombre del usuario.\n",
    "- **void say_user_info()**: Imprime 'Mi nombre es {self.username} y soy {self.role}.'.\n",
    "\n",
    "## Clase Admin\n",
    "- **void say_id()**: Imprime:\n",
    "    - 'Mi id es: {self.id}.\n",
    "    - 'Soy un Administrador \\\\(0-0)/'.\n",
    "    \n",
    "## Clase Manager\n",
    "- **void say_id()**: Imprime:\n",
    "    - 'Mi id es: {self.id}.\n",
    "    - 'Soy un Administrador \\\\(0-0)/'.    \n",
    "    - 'Y estoy al mando'"
   ]
  },
  {
   "cell_type": "code",
   "execution_count": 21,
   "id": "f4e25fa6",
   "metadata": {},
   "outputs": [],
   "source": [
    "# Clase Empleado\n",
    "class Employee:\n",
    "    new_id = 1\n",
    "\n",
    "    def __init__(self):\n",
    "        self.id = Employee.new_id\n",
    "        Employee.new_id += 1\n",
    "        \n",
    "    def say_id(self):\n",
    "        print(f\"Mi id es {self.id}\")"
   ]
  },
  {
   "cell_type": "code",
   "execution_count": 23,
   "id": "a1d7687d",
   "metadata": {},
   "outputs": [
    {
     "name": "stdout",
     "output_type": "stream",
     "text": [
      "Mi id es 4\n"
     ]
    }
   ],
   "source": [
    "# Objeto 1\n",
    "Gus = Employee()\n",
    "Gus.say_id()"
   ]
  },
  {
   "cell_type": "code",
   "execution_count": 27,
   "id": "ed57b7fc",
   "metadata": {},
   "outputs": [],
   "source": [
    "# Clase User\n",
    "class User:\n",
    "    def __init__(self, role, username):\n",
    "        self.role = role\n",
    "        self.username = username\n",
    "\n",
    "    def say_user_info(self):\n",
    "        print(f\"Mi nombre es {self.username} y soy {self.role}\")"
   ]
  },
  {
   "cell_type": "code",
   "execution_count": 30,
   "id": "5a14ea73",
   "metadata": {},
   "outputs": [
    {
     "name": "stdout",
     "output_type": "stream",
     "text": [
      "Mi nombre es Samantha y soy Administrador\n",
      "Mi nombre es Karla y soy Manager\n",
      "Mi nombre es Mario y soy Usuario\n"
     ]
    }
   ],
   "source": [
    "# Objeto 2\n",
    "Samantha = User(\"Administrador\", \"Samantha\")\n",
    "Samantha.say_user_info()\n",
    "Karla = User(\"Manager\", \"Karla\")\n",
    "Karla.say_user_info()\n",
    "Mario = User(\"Usuario\", \"Mario\")\n",
    "Mario.say_user_info()"
   ]
  },
  {
   "cell_type": "code",
   "execution_count": 31,
   "id": "abb99393",
   "metadata": {},
   "outputs": [],
   "source": [
    "# Clase Admin\n",
    "class Admin(Employee, User):\n",
    "    def say_id(self):\n",
    "        super().say_id()\n",
    "        print(\"Soy un Administrador \\\\(0-0)/\")"
   ]
  },
  {
   "cell_type": "code",
   "execution_count": 25,
   "id": "70d20149",
   "metadata": {},
   "outputs": [
    {
     "name": "stdout",
     "output_type": "stream",
     "text": [
      "Mi id es 5\n",
      "Soy un Administrador \\(0-0)/\n"
     ]
    }
   ],
   "source": [
    "# Objeto 3\n",
    "Maria = Admin()\n",
    "Maria.say_id()"
   ]
  },
  {
   "cell_type": "code",
   "execution_count": 18,
   "id": "36d3a3d0",
   "metadata": {},
   "outputs": [],
   "source": [
    "# Clase Manager\n",
    "class Manager(Admin):\n",
    "    def say_id(self):\n",
    "        super().say_id()\n",
    "        print(\"Y estoy al mando\")"
   ]
  },
  {
   "cell_type": "code",
   "execution_count": 26,
   "id": "902ef486",
   "metadata": {},
   "outputs": [
    {
     "name": "stdout",
     "output_type": "stream",
     "text": [
      "Mi id es 6\n",
      "Soy un Administrador \\(0-0)/\n",
      "Y estoy al mando\n"
     ]
    }
   ],
   "source": [
    "# Objeto 4\n",
    "Pablo = Manager()\n",
    "Pablo.say_id()"
   ]
  }
 ],
 "metadata": {
  "kernelspec": {
   "display_name": "Python 3 (ipykernel)",
   "language": "python",
   "name": "python3"
  },
  "language_info": {
   "codemirror_mode": {
    "name": "ipython",
    "version": 3
   },
   "file_extension": ".py",
   "mimetype": "text/x-python",
   "name": "python",
   "nbconvert_exporter": "python",
   "pygments_lexer": "ipython3",
   "version": "3.12.0"
  }
 },
 "nbformat": 4,
 "nbformat_minor": 5
}
