{
 "cells": [
  {
   "cell_type": "markdown",
   "metadata": {},
   "source": [
    "# Ejercicio 11 OOP"
   ]
  },
  {
   "cell_type": "code",
   "execution_count": 21,
   "metadata": {},
   "outputs": [
    {
     "name": "stdout",
     "output_type": "stream",
     "text": [
      "{'Nombre': 'Gustavo', 'Edad': '19', 'Estatura': '1.70'}\n",
      "Nombre\n",
      "Edad\n",
      "Estatura\n",
      "Gustavo\n",
      "19\n",
      "1.70\n",
      "Gustavo\n",
      "('Nombre', 'Gustavo')\n",
      "('Edad', '19')\n",
      "('Estatura', '1.70')\n",
      "dict_items([('Nombre', 'Gustavo'), ('Edad', '19'), ('Estatura', '1.70')])\n",
      "Nombre:Gustavo\n",
      "Edad:19\n",
      "Estatura:1.70\n"
     ]
    }
   ],
   "source": [
    "dict = {\"Nombre\": \"Gustavo\", \"Edad\":\"19\", \"Estatura\":\"1.70\"}\n",
    "print(dict)\n",
    "for elemento in dict.keys():\n",
    "    print(elemento)\n",
    "\n",
    "for elemento in dict.values():\n",
    "    print(elemento)\n",
    "\n",
    "print(dict[\"Nombre\"])\n",
    "\n",
    "for elemento in dict.items():\n",
    "    print(elemento)\n",
    "\n",
    "#print(dir(dict))\n",
    "#print(help(dict))\n",
    "print(dict.items())\n",
    "\n",
    "for key, value in dict.items():\n",
    "    print(f\"{key}:{value}\")"
   ]
  },
  {
   "cell_type": "code",
   "execution_count": 27,
   "metadata": {},
   "outputs": [],
   "source": [
    "class FrecqTable:\n",
    "    def __init__(self):\n",
    "        self.count = {}\n",
    "\n",
    "    def add(self, element):\n",
    "        if element in self.count:\n",
    "            self.count[element] += 1\n",
    "        else:\n",
    "            self.count[element] = 1\n",
    "\n",
    "        print(self.count)\n",
    "\n",
    "    def howMany(self,element):\n",
    "        if element in self.count:\n",
    "            print(f\" hay {self.count[element]} elementos de {element}\")\n",
    "        else:\n",
    "            print(f\"No existe algun elemento de {element}\")\n",
    "\n",
    "\n",
    "\n"
   ]
  },
  {
   "cell_type": "code",
   "execution_count": 30,
   "metadata": {},
   "outputs": [
    {
     "name": "stdout",
     "output_type": "stream",
     "text": [
      "{'a': 1}\n",
      "{'a': 1, 'b': 1}\n",
      "{'a': 2, 'b': 1}\n",
      "{'a': 3, 'b': 1}\n",
      "{'a': 3, 'b': 2}\n",
      "{'a': 3, 'b': 2, 1: 1}\n"
     ]
    }
   ],
   "source": [
    "ft = FrecqTable()\n",
    "ft.add(\"a\")\n",
    "ft.add(\"b\")\n",
    "ft.add(\"a\")\n",
    "ft.add(\"a\")\n",
    "ft.add(\"b\")\n",
    "ft.add(1)"
   ]
  },
  {
   "cell_type": "code",
   "execution_count": 33,
   "metadata": {},
   "outputs": [
    {
     "name": "stdout",
     "output_type": "stream",
     "text": [
      " hay 3 elementos de a\n",
      " hay 2 elementos de b\n",
      "No existe algun elemento de c\n",
      " hay 1 elementos de 1\n"
     ]
    }
   ],
   "source": [
    "ft.howMany(\"a\")\n",
    "ft.howMany(\"b\")\n",
    "ft.howMany(\"c\")\n",
    "ft.howMany(1)"
   ]
  }
 ],
 "metadata": {
  "kernelspec": {
   "display_name": "Python 3",
   "language": "python",
   "name": "python3"
  },
  "language_info": {
   "codemirror_mode": {
    "name": "ipython",
    "version": 3
   },
   "file_extension": ".py",
   "mimetype": "text/x-python",
   "name": "python",
   "nbconvert_exporter": "python",
   "pygments_lexer": "ipython3",
   "version": "3.12.0"
  }
 },
 "nbformat": 4,
 "nbformat_minor": 2
}
