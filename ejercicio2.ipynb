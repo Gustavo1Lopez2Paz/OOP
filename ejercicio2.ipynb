{
 "cells": [
  {
   "cell_type": "markdown",
   "metadata": {},
   "source": [
    "# Ejercicio 2 de OOP"
   ]
  },
  {
   "cell_type": "markdown",
   "metadata": {},
   "source": [
    "<img src=\"./Diagramas_clases/02_herencia.png\" alt=\"EX 1\" width=\"500\">"
   ]
  },
  {
   "cell_type": "markdown",
   "metadata": {
    "vscode": {
     "languageId": "plaintext"
    }
   },
   "source": [
    "- **eat()**: Imprime \"yummy yummy estoy comiendo\".\n",
    "- **void meow()**: Imprime: \"Soy un gato y hago meow\".\n",
    "- **void bark()**: Imprime: \"Soy un perro y hago woof\"."
   ]
  },
  {
   "cell_type": "code",
   "execution_count": 4,
   "metadata": {},
   "outputs": [],
   "source": [
    "class Animal:\n",
    "    def __init__(self, name):\n",
    "        self.name = name\n",
    "    \n",
    "    def eat(self):\n",
    "        print(f\"yummy yummy estoy comiendo\")\n",
    "        \n",
    "class Cat(Animal):\n",
    "    def meow(self):\n",
    "        print(f\"Soy {self.name} y hago meow\")\n",
    "        \n",
    "class Dog(Animal):\n",
    "    def bark(self):\n",
    "        print(f\"Soy {self.name} y hago woof\")"
   ]
  },
  {
   "cell_type": "code",
   "execution_count": 5,
   "metadata": {},
   "outputs": [
    {
     "name": "stdout",
     "output_type": "stream",
     "text": [
      "Soy michu y hago meow\n",
      "yummy yummy estoy comiendo\n",
      "Soy firulais y hago woof\n",
      "yummy yummy estoy comiendo\n"
     ]
    }
   ],
   "source": [
    "michu = Cat(\"michu\")\n",
    "firu = Dog(\"firulais\")\n",
    "\n",
    "michu.meow()\n",
    "michu.eat()\n",
    "firu.bark()\n",
    "firu.eat()"
   ]
  }
 ],
 "metadata": {
  "kernelspec": {
   "display_name": "Python 3",
   "language": "python",
   "name": "python3"
  },
  "language_info": {
   "codemirror_mode": {
    "name": "ipython",
    "version": 3
   },
   "file_extension": ".py",
   "mimetype": "text/x-python",
   "name": "python",
   "nbconvert_exporter": "python",
   "pygments_lexer": "ipython3",
   "version": "3.11.4"
  }
 },
 "nbformat": 4,
 "nbformat_minor": 2
}
