{
 "cells": [
  {
   "cell_type": "markdown",
   "metadata": {},
   "source": [
    "# Ejercicio 5 de OOP"
   ]
  },
  {
   "cell_type": "markdown",
   "metadata": {},
   "source": [
    "<img src=\"./Diagramas_clases/05_herencia_multiple.png\" alt=\"EX 1\" width=\"500\">"
   ]
  },
  {
   "cell_type": "markdown",
   "metadata": {},
   "source": [
    "## Clase Animal\n",
    "- **str name**: Atributo de instancia. Nombre del animal.\n",
    "- **void eat()**: Imprime 'Yummy yummy! estoy comiendo.'.\n",
    "- **void make_noise()**: Imprime '{self.name} hace Grrrr!.'."
   ]
  },
  {
   "cell_type": "code",
   "execution_count": 2,
   "metadata": {},
   "outputs": [],
   "source": [
    "class Animal:\n",
    "    def __init__(self, name):\n",
    "        self.name = name\n",
    "        \n",
    "    def eat(self):\n",
    "        print('Yummy yummy! estoy comiendo.')\n",
    "        \n",
    "    def make_noise(self):\n",
    "        print(f'{self.name} hace Grrrr!.')"
   ]
  },
  {
   "cell_type": "code",
   "execution_count": 3,
   "metadata": {},
   "outputs": [
    {
     "name": "stdout",
     "output_type": "stream",
     "text": [
      "Yummy yummy! estoy comiendo.\n",
      "Negro hace Grrrr!.\n"
     ]
    }
   ],
   "source": [
    "Negro = Animal('Negro')\n",
    "Negro.eat()\n",
    "Negro.make_noise()"
   ]
  },
  {
   "cell_type": "markdown",
   "metadata": {},
   "source": [
    "## Clase Cat\n",
    "- **void make_noise()**: Imprime '{self.name} hace Rrrrrr!.'.\n",
    "- **void meow()**: Imprime 'Soy un gato y hago Meow!.'."
   ]
  },
  {
   "cell_type": "code",
   "execution_count": 8,
   "metadata": {},
   "outputs": [],
   "source": [
    "class Cat(Animal):\n",
    "    def make_noise(self):\n",
    "        print(f'{self.name} hace Grrrrr!.')\n",
    "        \n",
    "    def meow(self):\n",
    "        print('Soy un gato y hago Meow!.')"
   ]
  },
  {
   "cell_type": "code",
   "execution_count": 5,
   "metadata": {},
   "outputs": [
    {
     "name": "stdout",
     "output_type": "stream",
     "text": [
      "Michu hace Rrrrrr!.\n",
      "Soy un gato y hago Meow!.\n",
      "Yummy yummy! estoy comiendo.\n"
     ]
    }
   ],
   "source": [
    "Michu = Cat('Michu')\n",
    "Michu.make_noise()\n",
    "Michu.meow()\n",
    "Michu.eat()"
   ]
  },
  {
   "cell_type": "markdown",
   "metadata": {},
   "source": [
    "## Clase Dog\n",
    "- **void action()**: Imprime '{self.name} mueve la cola!'.\n",
    "- **void bark()**: Imprime 'Soy un perro y hago woof woof!'."
   ]
  },
  {
   "cell_type": "code",
   "execution_count": 6,
   "metadata": {},
   "outputs": [],
   "source": [
    "class Dog(Animal):\n",
    "    def action(self):\n",
    "        print(f\"{self.name} mueve la cola!\")\n",
    "    def bark(self):\n",
    "        print('Soy un perro y hago woof woof!')"
   ]
  },
  {
   "cell_type": "code",
   "execution_count": 9,
   "metadata": {},
   "outputs": [
    {
     "name": "stdout",
     "output_type": "stream",
     "text": [
      "Firu mueve la cola!\n",
      "Soy un perro y hago woof woof!\n",
      "Yummy yummy! estoy comiendo.\n",
      "Firu hace Grrrr!.\n"
     ]
    }
   ],
   "source": [
    "Firu = Dog('Firu')\n",
    "Firu.action()\n",
    "Firu.bark()\n",
    "Firu.eat()\n",
    "Firu.make_noise()"
   ]
  },
  {
   "cell_type": "markdown",
   "metadata": {},
   "source": [
    "## Clase Wolf\n",
    "- **void action()**: Imprime '{self.name} muerde y duele OUCH!'."
   ]
  },
  {
   "cell_type": "code",
   "execution_count": 11,
   "metadata": {},
   "outputs": [],
   "source": [
    "class Wolf(Animal):\n",
    "    def action(self):\n",
    "        print(f'{self.name} muerde y duele OUCH!')"
   ]
  },
  {
   "cell_type": "code",
   "execution_count": 12,
   "metadata": {},
   "outputs": [
    {
     "name": "stdout",
     "output_type": "stream",
     "text": [
      "Sparco muerde y duele OUCH!\n"
     ]
    }
   ],
   "source": [
    "Sparco = Wolf('Sparco')\n",
    "Sparco.action()"
   ]
  },
  {
   "cell_type": "markdown",
   "metadata": {},
   "source": [
    "## Clase Hybrid\n",
    "- **void action()**: Imprime:\n",
    "    - '{self.name} mueve la cola!'\n",
    "    - '{self.name} muerde y duele OUCH!'"
   ]
  }
 ],
 "metadata": {
  "kernelspec": {
   "display_name": "Python 3",
   "language": "python",
   "name": "python3"
  },
  "language_info": {
   "codemirror_mode": {
    "name": "ipython",
    "version": 3
   },
   "file_extension": ".py",
   "mimetype": "text/x-python",
   "name": "python",
   "nbconvert_exporter": "python",
   "pygments_lexer": "ipython3",
   "version": "3.12.0"
  }
 },
 "nbformat": 4,
 "nbformat_minor": 2
}
